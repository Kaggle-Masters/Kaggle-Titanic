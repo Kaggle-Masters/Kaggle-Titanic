{
 "cells": [
  {
   "cell_type": "code",
   "execution_count": 1,
   "metadata": {},
   "outputs": [],
   "source": [
    "import pandas as pd\n",
    "import numpy as np\n",
    "\n",
    "import torch\n",
    "from torch import nn\n",
    "import torch.utils.data as data\n",
    "import matplotlib.pyplot as plt"
   ]
  },
  {
   "cell_type": "code",
   "execution_count": 18,
   "metadata": {},
   "outputs": [],
   "source": [
    "# Import data\n",
    "train_raw = pd.read_csv(\"./data/train.csv\")\n",
    "test_raw = pd.read_csv(\"./data/test.csv\")"
   ]
  },
  {
   "cell_type": "markdown",
   "metadata": {},
   "source": [
    "# Preprocessing"
   ]
  },
  {
   "cell_type": "code",
   "execution_count": 19,
   "metadata": {},
   "outputs": [],
   "source": [
    "drop_list = [\"PassengerId\", \"Name\", \"Ticket\", \"Cabin\", \"Fare\"]\n",
    "train = train_raw.drop(columns=drop_list)\n",
    "test = test_raw.drop(columns=drop_list)"
   ]
  },
  {
   "cell_type": "code",
   "execution_count": 4,
   "metadata": {},
   "outputs": [],
   "source": [
    "# Fill NaN \n",
    "train.loc[train[\"Age\"].isna(), \"Age\"] = int(train.Age.mean())\n",
    "test.loc[test[\"Age\"].isna(), \"Age\"] = int(test.Age.mean())\n",
    "train.loc[train[\"Embarked\"].isna(), \"Embarked\"] = train.Embarked.mode().values[0]\n",
    "test.loc[test[\"Embarked\"].isna(), \"Embarked\"] = test.Embarked.mode().values[0]"
   ]
  },
  {
   "cell_type": "code",
   "execution_count": 5,
   "metadata": {},
   "outputs": [
    {
     "data": {
      "text/plain": [
       "Index(['Survived', 'Pclass', 'Sex', 'Age', 'SibSp', 'Parch', 'Embarked'], dtype='object')"
      ]
     },
     "execution_count": 5,
     "metadata": {},
     "output_type": "execute_result"
    }
   ],
   "source": [
    "train.columns"
   ]
  },
  {
   "cell_type": "code",
   "execution_count": 6,
   "metadata": {},
   "outputs": [],
   "source": [
    "X_train = train.drop(columns=[\"Survived\"])\n",
    "y_train = train[[\"Survived\"]]\n",
    "\n",
    "X_test = test.copy()"
   ]
  },
  {
   "cell_type": "markdown",
   "metadata": {},
   "source": [
    "# Feature Engineering"
   ]
  },
  {
   "cell_type": "code",
   "execution_count": 7,
   "metadata": {},
   "outputs": [],
   "source": [
    "X_train_encoded = pd.get_dummies(X_train, columns=[\"Pclass\",\"Sex\", \"Embarked\" ])\n",
    "X_test_encoded = pd.get_dummies(X_test, columns=[\"Pclass\",\"Sex\", \"Embarked\" ])\n",
    "\n",
    "# Shuffle\n",
    "indices = X_train_encoded.index.tolist()\n",
    "np.random.shuffle(indices)\n",
    "\n",
    "X_train_encoded = X_train_encoded.loc[indices].reset_index(drop=True)\n",
    "y_train = y_train.loc[indices].reset_index(drop=True)"
   ]
  },
  {
   "cell_type": "markdown",
   "metadata": {},
   "source": [
    "# Data Preperation"
   ]
  },
  {
   "cell_type": "code",
   "execution_count": 8,
   "metadata": {},
   "outputs": [],
   "source": [
    "# Hparams \n",
    "BATCH_SIZE = 16\n",
    "NUM_EPOCHS = 500\n",
    "LR = 0.0001\n",
    "\n",
    "# Other Params\n",
    "TEST_INTERVAL = 5"
   ]
  },
  {
   "cell_type": "code",
   "execution_count": 22,
   "metadata": {},
   "outputs": [],
   "source": [
    "# Train Test Split\n",
    "split_ratio = 0.9\n",
    "num_records = int(len(X_train) *  split_ratio)\n",
    "\n",
    "X_train_ = X_train_encoded[:num_records]\n",
    "y_train_ = y_train[:num_records]\n",
    "X_val_ = X_train_encoded[num_records:]\n",
    "y_val_ = y_train[num_records:]\n",
    "\n",
    "# Create Tensors\n",
    "X_train_tensor = torch.tensor(X_train_.astype(int).to_numpy(), dtype=torch.float32)\n",
    "y_train_tensor = torch.tensor(y_train_.astype(int).to_numpy(), dtype=torch.float32).view(-1)\n",
    "\n",
    "X_val_tensor = torch.tensor(X_val_.astype(int).to_numpy(), dtype=torch.float32)\n",
    "y_val_tensor = torch.tensor(y_val_.astype(int).to_numpy(), dtype=torch.float32).view(-1)\n",
    "\n",
    "X_test_tensor = torch.tensor(X_test_encoded.astype(int).to_numpy(), dtype=torch.float32)\n",
    "\n",
    "train_loader = data.DataLoader(data.TensorDataset(X_train_tensor, y_train_tensor), shuffle=True, batch_size=BATCH_SIZE)\n",
    "val_loader = data.DataLoader(data.TensorDataset(X_val_tensor, y_val_tensor), batch_size=BATCH_SIZE)"
   ]
  },
  {
   "cell_type": "markdown",
   "metadata": {},
   "source": [
    "# Modelling"
   ]
  },
  {
   "cell_type": "code",
   "execution_count": 10,
   "metadata": {},
   "outputs": [],
   "source": [
    "def run_epoch(optimizer, loss_fn, device, net: nn.Module, data_loader, train: bool):\n",
    "    epoch_loss = 0.\n",
    "    acc = 0.\n",
    "    for features, labels in data_loader:\n",
    "        features = features.to(device)\n",
    "        labels = labels.to(device).long()\n",
    "        optimizer.zero_grad()\n",
    "        if train:\n",
    "            # For training set\n",
    "            net.train()\n",
    "            y_pred = net(features)\n",
    "            loss = loss_fn(y_pred, labels)\n",
    "            loss.backward()\n",
    "            optimizer.step()\n",
    "            epoch_loss += loss.item()\n",
    "        else:\n",
    "            # For test set\n",
    "            net.eval()\n",
    "            with torch.no_grad():\n",
    "                y_pred = net(features)\n",
    "                loss = loss_fn(y_pred, labels)\n",
    "                epoch_loss += loss.item()\n",
    "        acc += (y_pred.argmax(1) == labels).sum().item()\n",
    "    \n",
    "    acc /= len(data_loader.dataset)\n",
    "    return epoch_loss, acc"
   ]
  },
  {
   "cell_type": "code",
   "execution_count": 11,
   "metadata": {},
   "outputs": [
    {
     "name": "stdout",
     "output_type": "stream",
     "text": [
      "epoch =0, test_loss =4.035485565662384, test_acc =0.6222222222222222\n",
      "epoch =5, test_loss =3.8953293561935425, test_acc =0.6666666666666666\n",
      "epoch =10, test_loss =3.861818790435791, test_acc =0.6666666666666666\n",
      "epoch =15, test_loss =3.7652809023857117, test_acc =0.6666666666666666\n",
      "epoch =20, test_loss =3.625484347343445, test_acc =0.6888888888888889\n",
      "epoch =25, test_loss =3.435104191303253, test_acc =0.7222222222222222\n",
      "epoch =30, test_loss =3.2046137750148773, test_acc =0.8222222222222222\n",
      "epoch =35, test_loss =2.977595239877701, test_acc =0.8333333333333334\n",
      "epoch =40, test_loss =2.707313060760498, test_acc =0.8333333333333334\n",
      "epoch =45, test_loss =2.578995853662491, test_acc =0.8444444444444444\n",
      "epoch =50, test_loss =2.4358238577842712, test_acc =0.8555555555555555\n",
      "epoch =55, test_loss =2.4156708121299744, test_acc =0.8111111111111111\n",
      "epoch =60, test_loss =2.384823799133301, test_acc =0.8111111111111111\n",
      "epoch =65, test_loss =2.3611793220043182, test_acc =0.8111111111111111\n",
      "epoch =70, test_loss =2.309622183442116, test_acc =0.8222222222222222\n",
      "epoch =75, test_loss =2.3279084116220474, test_acc =0.8111111111111111\n",
      "epoch =80, test_loss =2.2979476153850555, test_acc =0.8222222222222222\n",
      "epoch =85, test_loss =2.2682825177907944, test_acc =0.8222222222222222\n",
      "epoch =90, test_loss =2.2839441150426865, test_acc =0.8333333333333334\n",
      "epoch =95, test_loss =2.251173973083496, test_acc =0.8222222222222222\n",
      "epoch =100, test_loss =2.233808383345604, test_acc =0.8222222222222222\n",
      "epoch =105, test_loss =2.2738956809043884, test_acc =0.8222222222222222\n",
      "epoch =110, test_loss =2.239204376935959, test_acc =0.8222222222222222\n",
      "epoch =115, test_loss =2.239779770374298, test_acc =0.8333333333333334\n",
      "epoch =120, test_loss =2.23056723177433, test_acc =0.8333333333333334\n",
      "epoch =125, test_loss =2.2003205120563507, test_acc =0.8222222222222222\n",
      "epoch =130, test_loss =2.190150946378708, test_acc =0.8222222222222222\n",
      "epoch =135, test_loss =2.233801320195198, test_acc =0.8222222222222222\n",
      "epoch =140, test_loss =2.1774110347032547, test_acc =0.8222222222222222\n",
      "epoch =145, test_loss =2.17940291762352, test_acc =0.8222222222222222\n",
      "epoch =150, test_loss =2.215687111020088, test_acc =0.8222222222222222\n",
      "epoch =155, test_loss =2.2041501849889755, test_acc =0.8222222222222222\n",
      "epoch =160, test_loss =2.199381411075592, test_acc =0.8333333333333334\n",
      "epoch =165, test_loss =2.210362672805786, test_acc =0.8222222222222222\n",
      "epoch =170, test_loss =2.2300702184438705, test_acc =0.8111111111111111\n",
      "epoch =175, test_loss =2.1898787766695023, test_acc =0.8333333333333334\n",
      "epoch =180, test_loss =2.1452736258506775, test_acc =0.8222222222222222\n",
      "epoch =185, test_loss =2.2093401551246643, test_acc =0.8111111111111111\n",
      "epoch =190, test_loss =2.1288627237081528, test_acc =0.8222222222222222\n",
      "epoch =195, test_loss =2.186049982905388, test_acc =0.8222222222222222\n",
      "epoch =200, test_loss =2.1801345199346542, test_acc =0.8222222222222222\n",
      "epoch =205, test_loss =2.169427305459976, test_acc =0.8222222222222222\n",
      "epoch =210, test_loss =2.155219614505768, test_acc =0.8222222222222222\n",
      "epoch =215, test_loss =2.124853700399399, test_acc =0.8222222222222222\n",
      "epoch =220, test_loss =2.1427880078554153, test_acc =0.8222222222222222\n",
      "epoch =225, test_loss =2.169746443629265, test_acc =0.8111111111111111\n",
      "epoch =230, test_loss =2.1718999594449997, test_acc =0.8111111111111111\n",
      "epoch =235, test_loss =2.1383268237113953, test_acc =0.8222222222222222\n",
      "epoch =240, test_loss =2.132969930768013, test_acc =0.8222222222222222\n",
      "epoch =245, test_loss =2.1333265900611877, test_acc =0.8222222222222222\n",
      "epoch =250, test_loss =2.0907991230487823, test_acc =0.8333333333333334\n",
      "epoch =255, test_loss =2.144621029496193, test_acc =0.8222222222222222\n",
      "epoch =260, test_loss =2.1193983405828476, test_acc =0.8222222222222222\n",
      "epoch =265, test_loss =2.12942174077034, test_acc =0.8222222222222222\n",
      "epoch =270, test_loss =2.1085004955530167, test_acc =0.8222222222222222\n",
      "epoch =275, test_loss =2.119329020380974, test_acc =0.8222222222222222\n",
      "epoch =280, test_loss =2.0873439013957977, test_acc =0.8222222222222222\n",
      "epoch =285, test_loss =2.0881916135549545, test_acc =0.8333333333333334\n",
      "epoch =290, test_loss =2.111516982316971, test_acc =0.8222222222222222\n",
      "epoch =295, test_loss =2.074573442339897, test_acc =0.8444444444444444\n",
      "epoch =300, test_loss =2.107605919241905, test_acc =0.8222222222222222\n",
      "epoch =305, test_loss =2.09522545337677, test_acc =0.8222222222222222\n",
      "epoch =310, test_loss =2.138346180319786, test_acc =0.8111111111111111\n",
      "epoch =315, test_loss =2.1492167711257935, test_acc =0.8222222222222222\n",
      "epoch =320, test_loss =2.0993521362543106, test_acc =0.8333333333333334\n",
      "epoch =325, test_loss =2.1473464965820312, test_acc =0.8222222222222222\n",
      "epoch =330, test_loss =2.155221551656723, test_acc =0.8222222222222222\n",
      "epoch =335, test_loss =2.0958480536937714, test_acc =0.8333333333333334\n",
      "epoch =340, test_loss =2.0586497634649277, test_acc =0.8666666666666667\n",
      "epoch =345, test_loss =2.1175171583890915, test_acc =0.8333333333333334\n",
      "epoch =350, test_loss =2.0765832513570786, test_acc =0.8444444444444444\n",
      "epoch =355, test_loss =2.1037778705358505, test_acc =0.8333333333333334\n",
      "epoch =360, test_loss =2.0983057767152786, test_acc =0.8333333333333334\n",
      "epoch =365, test_loss =2.153186857700348, test_acc =0.8222222222222222\n",
      "epoch =370, test_loss =2.068531334400177, test_acc =0.8666666666666667\n",
      "epoch =375, test_loss =2.1562125384807587, test_acc =0.8222222222222222\n",
      "epoch =380, test_loss =2.1341505497694016, test_acc =0.8333333333333334\n",
      "epoch =385, test_loss =2.088778555393219, test_acc =0.8444444444444444\n",
      "epoch =390, test_loss =2.1049976646900177, test_acc =0.8333333333333334\n",
      "epoch =395, test_loss =2.074645757675171, test_acc =0.8555555555555555\n",
      "epoch =400, test_loss =2.11285237967968, test_acc =0.8333333333333334\n",
      "epoch =405, test_loss =2.112887904047966, test_acc =0.8333333333333334\n",
      "epoch =410, test_loss =2.095150873064995, test_acc =0.8444444444444444\n",
      "epoch =415, test_loss =2.0985625088214874, test_acc =0.8555555555555555\n",
      "epoch =420, test_loss =2.1263580322265625, test_acc =0.8333333333333334\n",
      "epoch =425, test_loss =2.081674098968506, test_acc =0.8555555555555555\n",
      "epoch =430, test_loss =2.1307654082775116, test_acc =0.8333333333333334\n",
      "epoch =435, test_loss =2.1667586863040924, test_acc =0.8222222222222222\n",
      "epoch =440, test_loss =2.0627583414316177, test_acc =0.8666666666666667\n",
      "epoch =445, test_loss =2.0649276077747345, test_acc =0.8666666666666667\n",
      "epoch =450, test_loss =2.107824742794037, test_acc =0.8333333333333334\n",
      "epoch =455, test_loss =2.1227306574583054, test_acc =0.8333333333333334\n",
      "epoch =460, test_loss =2.1236259639263153, test_acc =0.8333333333333334\n",
      "epoch =465, test_loss =2.0848333090543747, test_acc =0.8666666666666667\n",
      "epoch =470, test_loss =2.096499666571617, test_acc =0.8555555555555555\n",
      "epoch =475, test_loss =2.1178294122219086, test_acc =0.8333333333333334\n",
      "epoch =480, test_loss =2.131234273314476, test_acc =0.8333333333333334\n",
      "epoch =485, test_loss =2.148425370454788, test_acc =0.8222222222222222\n",
      "epoch =490, test_loss =2.167427882552147, test_acc =0.8222222222222222\n",
      "epoch =495, test_loss =2.0816593170166016, test_acc =0.8666666666666667\n"
     ]
    }
   ],
   "source": [
    "from models.model import Net5 as Net\n",
    "\n",
    "device = torch.device('cuda' if torch.cuda.is_available() else 'cpu')\n",
    "net = Net(X_train_tensor.shape[1]).to(device)\n",
    "optimizer = torch.optim.Adam(lr=LR, params=net.parameters())\n",
    "loss_fn = nn.CrossEntropyLoss()\n",
    "train_losses = []\n",
    "train_accs = []\n",
    "test_losses = []\n",
    "test_accs = []\n",
    "\n",
    "for epoch in range(NUM_EPOCHS):\n",
    "    # Train\n",
    "    train_loss, train_acc = run_epoch(optimizer=optimizer, loss_fn=loss_fn, device=device, net=net, data_loader=train_loader, train=True)\n",
    "    train_losses.append(train_loss)\n",
    "    train_accs.append(train_acc)\n",
    "    # Test\n",
    "    if epoch % TEST_INTERVAL == 0:\n",
    "        test_loss, test_acc = run_epoch(optimizer=optimizer, loss_fn=loss_fn, device=device, net=net, data_loader=val_loader, train=False)\n",
    "        test_losses.append(test_loss)\n",
    "        test_accs.append(test_acc)\n",
    "        print(f\"{epoch =}, {test_loss =}, {test_acc =}\")"
   ]
  },
  {
   "cell_type": "code",
   "execution_count": 14,
   "metadata": {},
   "outputs": [
    {
     "name": "stdout",
     "output_type": "stream",
     "text": [
      "0.8667\n"
     ]
    }
   ],
   "source": [
    "print(f\"{max(test_accs):.4f}\")"
   ]
  },
  {
   "cell_type": "code",
   "execution_count": 15,
   "metadata": {},
   "outputs": [
    {
     "data": {
      "image/png": "[encoded data removed]",
      "text/plain": [
       "<Figure size 640x480 with 1 Axes>"
      ]
     },
     "metadata": {},
     "output_type": "display_data"
    }
   ],
   "source": [
    "plt.figure()\n",
    "plt.clf()\n",
    "plt.plot(range(0, NUM_EPOCHS, 1), train_losses, label='Train')\n",
    "plt.plot(range(0, NUM_EPOCHS, TEST_INTERVAL), test_losses, label='Test')\n",
    "plt.legend()\n",
    "plt.grid()\n",
    "plt.title('CE Loss')\n",
    "plt.xlabel('Epoch')\n",
    "plt.ylabel('Loss')\n",
    "plt.ticklabel_format(style='sci', axis='both', scilimits=(0,0)) # Apply scientific notation\n",
    "plt.show()"
   ]
  },
  {
   "cell_type": "code",
   "execution_count": 17,
   "metadata": {},
   "outputs": [
    {
     "data": {
      "text/html": [
       "<div>\n",
       "<style scoped>\n",
       "    .dataframe tbody tr th:only-of-type {\n",
       "        vertical-align: middle;\n",
       "    }\n",
       "\n",
       "    .dataframe tbody tr th {\n",
       "        vertical-align: top;\n",
       "    }\n",
       "\n",
       "    .dataframe thead th {\n",
       "        text-align: right;\n",
       "    }\n",
       "</style>\n",
       "<table border=\"1\" class=\"dataframe\">\n",
       "  <thead>\n",
       "    <tr style=\"text-align: right;\">\n",
       "      <th></th>\n",
       "      <th>Pclass</th>\n",
       "      <th>Sex</th>\n",
       "      <th>Age</th>\n",
       "      <th>SibSp</th>\n",
       "      <th>Parch</th>\n",
       "      <th>Embarked</th>\n",
       "    </tr>\n",
       "  </thead>\n",
       "  <tbody>\n",
       "    <tr>\n",
       "      <th>0</th>\n",
       "      <td>3</td>\n",
       "      <td>male</td>\n",
       "      <td>34.5</td>\n",
       "      <td>0</td>\n",
       "      <td>0</td>\n",
       "      <td>Q</td>\n",
       "    </tr>\n",
       "    <tr>\n",
       "      <th>1</th>\n",
       "      <td>3</td>\n",
       "      <td>female</td>\n",
       "      <td>47.0</td>\n",
       "      <td>1</td>\n",
       "      <td>0</td>\n",
       "      <td>S</td>\n",
       "    </tr>\n",
       "    <tr>\n",
       "      <th>2</th>\n",
       "      <td>2</td>\n",
       "      <td>male</td>\n",
       "      <td>62.0</td>\n",
       "      <td>0</td>\n",
       "      <td>0</td>\n",
       "      <td>Q</td>\n",
       "    </tr>\n",
       "    <tr>\n",
       "      <th>3</th>\n",
       "      <td>3</td>\n",
       "      <td>male</td>\n",
       "      <td>27.0</td>\n",
       "      <td>0</td>\n",
       "      <td>0</td>\n",
       "      <td>S</td>\n",
       "    </tr>\n",
       "    <tr>\n",
       "      <th>4</th>\n",
       "      <td>3</td>\n",
       "      <td>female</td>\n",
       "      <td>22.0</td>\n",
       "      <td>1</td>\n",
       "      <td>1</td>\n",
       "      <td>S</td>\n",
       "    </tr>\n",
       "  </tbody>\n",
       "</table>\n",
       "</div>"
      ],
      "text/plain": [
       "   Pclass     Sex   Age  SibSp  Parch Embarked\n",
       "0       3    male  34.5      0      0        Q\n",
       "1       3  female  47.0      1      0        S\n",
       "2       2    male  62.0      0      0        Q\n",
       "3       3    male  27.0      0      0        S\n",
       "4       3  female  22.0      1      1        S"
      ]
     },
     "execution_count": 17,
     "metadata": {},
     "output_type": "execute_result"
    }
   ],
   "source": [
    "test.head()"
   ]
  },
  {
   "cell_type": "code",
   "execution_count": 28,
   "metadata": {},
   "outputs": [
    {
     "data": {
      "text/plain": [
       "array([0, 0, 0, 0, 0, 0, 1, 0, 1, 0, 0, 0, 1, 0, 1, 1, 0, 0, 0, 1, 0, 1,\n",
       "       1, 0, 1, 0, 1, 0, 0, 0, 0, 0, 0, 0, 0, 0, 1, 1, 0, 0, 0, 0, 0, 1,\n",
       "       1, 0, 0, 0, 1, 0, 0, 0, 1, 1, 0, 0, 0, 0, 0, 1, 0, 0, 0, 1, 0, 1,\n",
       "       1, 0, 1, 1, 1, 0, 1, 1, 1, 1, 0, 1, 0, 1, 0, 0, 0, 0, 0, 0, 1, 1,\n",
       "       1, 1, 0, 0, 1, 0, 1, 0, 1, 0, 1, 0, 1, 0, 0, 0, 1, 0, 0, 0, 0, 0,\n",
       "       0, 1, 1, 1, 1, 0, 0, 1, 0, 1, 1, 0, 1, 0, 0, 0, 0, 1, 0, 0, 0, 0,\n",
       "       0, 0, 0, 0, 0, 0, 1, 0, 0, 1, 0, 0, 0, 0, 0, 0, 0, 0, 1, 0, 0, 0,\n",
       "       0, 0, 1, 1, 0, 0, 1, 0, 1, 0, 0, 0, 0, 0, 1, 1, 0, 0, 0, 0, 0, 1,\n",
       "       1, 0, 1, 1, 0, 0, 1, 0, 1, 0, 1, 0, 0, 0, 0, 0, 0, 0, 1, 0, 1, 1,\n",
       "       0, 1, 1, 1, 0, 1, 0, 1, 1, 0, 1, 0, 0, 0, 0, 1, 0, 0, 1, 0, 1, 0,\n",
       "       1, 0, 1, 0, 1, 1, 0, 1, 0, 0, 0, 1, 0, 0, 0, 0, 0, 0, 1, 1, 1, 1,\n",
       "       0, 0, 0, 0, 1, 0, 1, 1, 1, 0, 0, 0, 0, 0, 0, 0, 1, 0, 0, 0, 1, 1,\n",
       "       0, 0, 0, 0, 1, 0, 0, 0, 1, 1, 0, 1, 0, 0, 0, 0, 1, 1, 1, 1, 1, 0,\n",
       "       0, 0, 0, 0, 0, 1, 0, 0, 0, 0, 1, 0, 0, 0, 0, 0, 0, 0, 1, 1, 0, 1,\n",
       "       0, 0, 0, 0, 0, 1, 1, 1, 0, 0, 0, 0, 0, 0, 0, 0, 1, 0, 1, 0, 0, 0,\n",
       "       1, 0, 0, 1, 0, 0, 0, 0, 0, 0, 0, 0, 0, 1, 0, 1, 0, 1, 0, 1, 1, 0,\n",
       "       0, 0, 1, 0, 1, 0, 0, 0, 0, 1, 1, 0, 1, 0, 0, 1, 1, 0, 0, 1, 0, 0,\n",
       "       1, 1, 0, 0, 0, 0, 0, 0, 1, 0, 0, 1, 0, 0, 0, 0, 0, 1, 0, 0, 0, 1,\n",
       "       0, 1, 0, 0, 1, 0, 1, 0, 0, 0, 0, 0, 1, 1, 1, 1, 1, 0, 1, 0, 0, 0],\n",
       "      dtype=int64)"
      ]
     },
     "execution_count": 28,
     "metadata": {},
     "output_type": "execute_result"
    }
   ],
   "source": []
  },
  {
   "cell_type": "code",
   "execution_count": 31,
   "metadata": {},
   "outputs": [
    {
     "name": "stderr",
     "output_type": "stream",
     "text": [
      "C:\\Users\\02485955\\AppData\\Local\\Temp\\ipykernel_32620\\4069029542.py:5: SettingWithCopyWarning: \n",
      "A value is trying to be set on a copy of a slice from a DataFrame.\n",
      "Try using .loc[row_indexer,col_indexer] = value instead\n",
      "\n",
      "See the caveats in the documentation: https://pandas.pydata.org/pandas-docs/stable/user_guide/indexing.html#returning-a-view-versus-a-copy\n",
      "  output[\"Survived\"] = preds\n"
     ]
    }
   ],
   "source": [
    "output = test_raw[[\"PassengerId\"]]\n",
    "\n",
    "preds = net(X_test_tensor).argmax(1).detach().numpy()\n",
    "\n",
    "output[\"Survived\"] = preds\n",
    "\n",
    "output.to_csv(\"./outputs/submission.csv\", index=False)"
   ]
  }
 ],
 "metadata": {
  "kernelspec": {
   "display_name": "assan",
   "language": "python",
   "name": "python3"
  },
  "language_info": {
   "codemirror_mode": {
    "name": "ipython",
    "version": 3
   },
   "file_extension": ".py",
   "mimetype": "text/x-python",
   "name": "python",
   "nbconvert_exporter": "python",
   "pygments_lexer": "ipython3",
   "version": "3.8.16"
  },
  "orig_nbformat": 4
 },
 "nbformat": 4,
 "nbformat_minor": 2
}
